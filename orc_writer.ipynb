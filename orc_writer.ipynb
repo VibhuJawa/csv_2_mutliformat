{
 "cells": [
  {
   "cell_type": "code",
   "execution_count": 1,
   "metadata": {},
   "outputs": [],
   "source": [
    "import os\n",
    "os.environ['PYSPARK_SUBMIT_ARGS'] = '--packages   org.apache.spark:spark-avro_2.11:2.4.3  pyspark-shell'\n",
    "#os.environ['JAVA_HOME'] = '/usr/bin/java/'\n",
    "\n",
    "import shutil\n",
    "import pyspark\n",
    "from pyspark.conf import SparkConf\n",
    "from pyspark.sql import SQLContext\n",
    "from pyspark import SparkContext\n"
   ]
  },
  {
   "cell_type": "code",
   "execution_count": 2,
   "metadata": {},
   "outputs": [],
   "source": [
    "# set the write properties for spartk context\n",
    "SparkContext.setSystemProperty('spark.executor.memory', '50g')\n",
    "SparkContext.setSystemProperty(\"spark.ui.port\", \"0\")\n",
    "\n",
    "\n",
    "sc = SparkContext(\"local\", \"orc_writer\").getOrCreate()\n",
    "sql_sc = SQLContext(sc)"
   ]
  },
  {
   "cell_type": "markdown",
   "metadata": {},
   "source": [
    "## Input dirs"
   ]
  },
  {
   "cell_type": "code",
   "execution_count": 3,
   "metadata": {},
   "outputs": [],
   "source": [
    "input_dir = '../datasets/dataset_multiformat'"
   ]
  },
  {
   "cell_type": "code",
   "execution_count": 4,
   "metadata": {},
   "outputs": [],
   "source": [
    "datasets = ['nyt','tweets','beer']"
   ]
  },
  {
   "cell_type": "code",
   "execution_count": 5,
   "metadata": {},
   "outputs": [],
   "source": [
    "dataset_d = {}\n",
    "for dataset in datasets:\n",
    "    dataset_d[dataset] = [fn for fn in os.listdir(os.path.join(input_dir,dataset)) if '.csv' in fn]"
   ]
  },
  {
   "cell_type": "markdown",
   "metadata": {},
   "source": [
    "# Read and Write Files to orc"
   ]
  },
  {
   "cell_type": "code",
   "execution_count": 6,
   "metadata": {},
   "outputs": [
    {
     "name": "stdout",
     "output_type": "stream",
     "text": [
      "Reading ../datasets/dataset_multiformat/nyt/CommentsJan2018.csv\n",
      "Completed ../datasets/dataset_multiformat/nyt/arvo/CommentsJan2018\n",
      "\n",
      "--------------------\n",
      "\n",
      "Reading ../datasets/dataset_multiformat/nyt/ArticlesApril2017.csv\n",
      "Completed ../datasets/dataset_multiformat/nyt/arvo/ArticlesApril2017\n",
      "\n",
      "--------------------\n",
      "\n",
      "Reading ../datasets/dataset_multiformat/nyt/CommentsMarch2018.csv\n",
      "Completed ../datasets/dataset_multiformat/nyt/arvo/CommentsMarch2018\n",
      "\n",
      "--------------------\n",
      "\n",
      "Reading ../datasets/dataset_multiformat/nyt/CommentsJan2017.csv\n",
      "Completed ../datasets/dataset_multiformat/nyt/arvo/CommentsJan2017\n",
      "\n",
      "--------------------\n",
      "\n",
      "Reading ../datasets/dataset_multiformat/nyt/ArticlesFeb2018.csv\n",
      "Completed ../datasets/dataset_multiformat/nyt/arvo/ArticlesFeb2018\n",
      "\n",
      "--------------------\n",
      "\n",
      "Reading ../datasets/dataset_multiformat/nyt/ArticlesApril2018.csv\n",
      "Completed ../datasets/dataset_multiformat/nyt/arvo/ArticlesApril2018\n",
      "\n",
      "--------------------\n",
      "\n",
      "Reading ../datasets/dataset_multiformat/nyt/CommentsFeb2018.csv\n",
      "Completed ../datasets/dataset_multiformat/nyt/arvo/CommentsFeb2018\n",
      "\n",
      "--------------------\n",
      "\n",
      "Reading ../datasets/dataset_multiformat/nyt/ArticlesMay2017.csv\n",
      "Completed ../datasets/dataset_multiformat/nyt/arvo/ArticlesMay2017\n",
      "\n",
      "--------------------\n",
      "\n",
      "Reading ../datasets/dataset_multiformat/nyt/ArticlesMarch2017.csv\n",
      "Completed ../datasets/dataset_multiformat/nyt/arvo/ArticlesMarch2017\n",
      "\n",
      "--------------------\n",
      "\n",
      "Reading ../datasets/dataset_multiformat/nyt/CommentsApril2017.csv\n",
      "Completed ../datasets/dataset_multiformat/nyt/arvo/CommentsApril2017\n",
      "\n",
      "--------------------\n",
      "\n",
      "Reading ../datasets/dataset_multiformat/nyt/CommentsMarch2017.csv\n",
      "Completed ../datasets/dataset_multiformat/nyt/arvo/CommentsMarch2017\n",
      "\n",
      "--------------------\n",
      "\n",
      "Reading ../datasets/dataset_multiformat/nyt/CommentsFeb2017.csv\n",
      "Completed ../datasets/dataset_multiformat/nyt/arvo/CommentsFeb2017\n",
      "\n",
      "--------------------\n",
      "\n",
      "Reading ../datasets/dataset_multiformat/nyt/ArticlesFeb2017.csv\n",
      "Completed ../datasets/dataset_multiformat/nyt/arvo/ArticlesFeb2017\n",
      "\n",
      "--------------------\n",
      "\n",
      "Reading ../datasets/dataset_multiformat/nyt/ArticlesJan2018.csv\n",
      "Completed ../datasets/dataset_multiformat/nyt/arvo/ArticlesJan2018\n",
      "\n",
      "--------------------\n",
      "\n",
      "Reading ../datasets/dataset_multiformat/nyt/CommentsMay2017.csv\n",
      "Completed ../datasets/dataset_multiformat/nyt/arvo/CommentsMay2017\n",
      "\n",
      "--------------------\n",
      "\n",
      "Reading ../datasets/dataset_multiformat/nyt/CommentsApril2018.csv\n",
      "Completed ../datasets/dataset_multiformat/nyt/arvo/CommentsApril2018\n",
      "\n",
      "--------------------\n",
      "\n",
      "Reading ../datasets/dataset_multiformat/nyt/ArticlesJan2017.csv\n",
      "Completed ../datasets/dataset_multiformat/nyt/arvo/ArticlesJan2017\n",
      "\n",
      "--------------------\n",
      "\n",
      "Reading ../datasets/dataset_multiformat/nyt/ArticlesMarch2018.csv\n",
      "Completed ../datasets/dataset_multiformat/nyt/arvo/ArticlesMarch2018\n",
      "\n",
      "--------------------\n",
      "\n",
      "Reading ../datasets/dataset_multiformat/tweets/ira_tweets_csv_hashed.csv\n",
      "Completed ../datasets/dataset_multiformat/tweets/arvo/ira_tweets_csv_hashed\n",
      "\n",
      "--------------------\n",
      "\n",
      "Reading ../datasets/dataset_multiformat/beer/breweries.csv\n",
      "Completed ../datasets/dataset_multiformat/beer/arvo/breweries\n",
      "\n",
      "--------------------\n",
      "\n",
      "Reading ../datasets/dataset_multiformat/beer/beers.csv\n",
      "Completed ../datasets/dataset_multiformat/beer/arvo/beers\n",
      "\n",
      "--------------------\n",
      "\n",
      "Reading ../datasets/dataset_multiformat/beer/reviews.csv\n",
      "Completed ../datasets/dataset_multiformat/beer/arvo/reviews\n",
      "\n",
      "--------------------\n",
      "\n"
     ]
    }
   ],
   "source": [
    "for dataset_dir,fn_ls in dataset_d.items():\n",
    "    for fn in fn_ls:\n",
    "        input_file_path = os.path.join(input_dir,dataset_dir,fn)        \n",
    "        # reading input file path\n",
    "        print(\"Reading {}\".format(input_file_path))\n",
    "        \n",
    "        df = sql_sc.read.csv(input_file_path, header='true',inferSchema='true')\n",
    "        output_dir = os.path.join(input_dir,dataset_dir)\n",
    "        \n",
    "        output_file_path_arvo = os.path.join(output_dir,'arvo',fn[:-4])\n",
    "        shutil.rmtree(output_file_path_arvo, ignore_errors=True)\n",
    "        df.write.format(\"avro\").save(output_file_path_arvo)\n",
    "        print(\"Completed {}\".format(output_file_path_arvo))\n",
    "\n",
    "#         output_file_path_orc = os.path.join(output_dir,'orc',fn[:-4])\n",
    "#         output_file_path_json = os.path.join(output_dir,'json',fn[:-4])\n",
    "#         output_file_path_parquet = os.path.join(output_dir,'parquet',fn[:-4])\n",
    "        \n",
    "#         shutil.rmtree(output_file_path_orc, ignore_errors=True)   \n",
    "#         shutil.rmtree(output_file_path_json, ignore_errors=True)   \n",
    "#         shutil.rmtree(output_file_path_parquet, ignore_errors=True)   \n",
    "        \n",
    "#         df.write.format(\"orc\").save(output_file_path_orc)\n",
    "#         print(\"Completed {}\".format(output_file_path_orc))\n",
    "        \n",
    "#         df.write.format(\"json\").save(output_file_path_json)\n",
    "#         print(\"Completed {}\".format(output_file_path_json))\n",
    "\n",
    "#         df.write.format(\"parquet\").save(output_file_path_parquet)\n",
    "#         print(\"Completed {}\".format(output_file_path_parquet))\n",
    "        \n",
    "        print(\"\\n\"+\"--\"*10+\"\\n\")"
   ]
  },
  {
   "cell_type": "markdown",
   "metadata": {},
   "source": [
    "# Test written FIle"
   ]
  },
  {
   "cell_type": "code",
   "execution_count": 31,
   "metadata": {},
   "outputs": [],
   "source": [
    "output_file = '../../dataset/nyt/orc/CommentsApril2017'\n",
    "orc_df = sql_sc.read.orc(output_file)"
   ]
  },
  {
   "cell_type": "code",
   "execution_count": 34,
   "metadata": {},
   "outputs": [
    {
     "data": {
      "text/plain": [
       "DataFrame[approveDate: string, commentBody: string, commentID: string, commentSequence: string, commentTitle: string, commentType: string, createDate: string, depth: string, editorsSelection: string, parentID: string, parentUserDisplayName: string, permID: string, picURL: string, recommendations: string, recommendedFlag: string, replyCount: string, reportAbuseFlag: string, sharing: string, status: string, timespeople: string, trusted: string, updateDate: string, userDisplayName: string, userID: string, userLocation: string, userTitle: string, userURL: string, inReplyTo: string, articleID: string, sectionName: string, newDesk: string, articleWordCount: string, printPage: string, typeOfMaterial: string]"
      ]
     },
     "execution_count": 34,
     "metadata": {},
     "output_type": "execute_result"
    }
   ],
   "source": [
    "orc_df"
   ]
  },
  {
   "cell_type": "code",
   "execution_count": 16,
   "metadata": {},
   "outputs": [],
   "source": [
    "df.write.format(\"json\").save('test')"
   ]
  },
  {
   "cell_type": "code",
   "execution_count": null,
   "metadata": {},
   "outputs": [],
   "source": []
  }
 ],
 "metadata": {
  "kernelspec": {
   "display_name": "Python 3",
   "language": "python",
   "name": "python3"
  },
  "language_info": {
   "codemirror_mode": {
    "name": "ipython",
    "version": 3
   },
   "file_extension": ".py",
   "mimetype": "text/x-python",
   "name": "python",
   "nbconvert_exporter": "python",
   "pygments_lexer": "ipython3",
   "version": "3.7.3"
  }
 },
 "nbformat": 4,
 "nbformat_minor": 2
}
